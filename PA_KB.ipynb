{
 "cells": [
  {
   "cell_type": "markdown",
   "id": "bb51399d-7cfe-4b15-af9b-f14ec1184094",
   "metadata": {},
   "source": [
    "## IMPORT LIBRARY"
   ]
  },
  {
   "cell_type": "code",
   "execution_count": null,
   "id": "1d552b1d-0766-4def-ade3-012da66794ad",
   "metadata": {},
   "outputs": [],
   "source": [
    "import tensorflow as tf\n",
    "import numpy\n",
    "import seaborn as sns\n",
    "from keras.layers import Flatten,Dense\n",
    "from keras_preprocessing.image import ImageDataGenerator\n",
    "import matplotlib.pyplot as plt\n",
    "import matplotlib.image as mpimg\n",
    "import os"
   ]
  },
  {
   "cell_type": "markdown",
   "id": "b361352e-0c48-4260-a965-394af549892b",
   "metadata": {},
   "source": [
    "## VISUALISASI DATASET"
   ]
  },
  {
   "cell_type": "code",
   "execution_count": null,
   "id": "d12e60dd-2a60-45be-baee-2102ced1ff6e",
   "metadata": {},
   "outputs": [],
   "source": [
    "class_names=os.listdir(\"Train\")\n",
    "print(f\"classes: {','.join(class_names)}\")\n",
    "folders = os.listdir('Train')\n",
    "list=[]\n",
    "for folder in folders:\n",
    "    print(f\"{folder} : {len(os.listdir(f'Train/{folder}'))}\")\n",
    "    list.append(len(os.listdir(f'Train/{folder}')))\n",
    "plt.pie(list, labels=class_names, startangle=90,autopct=lambda p: '{:.2f}%({:.0f})'.format(p,(p/100)*sum(list)))\n",
    "plt.show()"
   ]
  },
  {
   "cell_type": "code",
   "execution_count": null,
   "id": "aa1cb097-f542-4f96-83ed-18940c4954c6",
   "metadata": {},
   "outputs": [],
   "source": [
    "for i,folder in enumerate(folders):\n",
    "    plt.subplot(3, 8, i + 1)\n",
    "    plt.title(folder)\n",
    "    plt.axis('off')\n",
    "    if ((os.listdir('Train//'+folder)[0])=='.ipynb_checkpoints'):\n",
    "        plt.imshow(plt.imread(f\"Train//{folder}//{os.listdir('Train//'+folder)[2]}\"),cmap=\"gray\")\n",
    "        pass\n",
    "    else:\n",
    "        plt.imshow(plt.imread(f\"Train//{folder}//{os.listdir('Train//'+folder)[0]}\"),cmap=\"gray\")\n",
    "plt.show()"
   ]
  },
  {
   "cell_type": "markdown",
   "id": "298d9cb7-f65d-40bc-ac51-491eea5046e1",
   "metadata": {},
   "source": [
    "### AUGMENTASI <a name=\"AUGMENTASI\">"
   ]
  },
  {
   "cell_type": "code",
   "execution_count": null,
   "id": "651100e1-c223-4e4f-aea3-940ed130f4a6",
   "metadata": {},
   "outputs": [],
   "source": [
    "def custom_augmentation(np_tensor):\n",
    "    def gaussian_noise(np_tensor):\n",
    "        mean = 0\n",
    "        var = numpy.random.randint(1, 26)\n",
    "        noise = numpy.random.normal(mean,var**0.5,np_tensor.shape)\n",
    "        return numpy.clip(np_tensor + noise, 0, 255).astype('float')\n",
    "    augmnted_tensor = gaussian_noise(np_tensor)\n",
    "    return numpy.array(augmnted_tensor)\n",
    "img_datagen=ImageDataGenerator(\n",
    "            preprocessing_function=custom_augmentation,\n",
    "            rescale = 1.0/255.,\n",
    "            rotation_range=20,horizontal_flip=False,\n",
    "            validation_split=0.3,fill_mode='nearest')"
   ]
  },
  {
   "cell_type": "code",
   "execution_count": null,
   "id": "21ef8a88-5400-4680-aede-f3b305aaaa02",
   "metadata": {},
   "outputs": [],
   "source": []
  }
 ],
 "metadata": {
  "kernelspec": {
   "display_name": "Python 3 (ipykernel)",
   "language": "python",
   "name": "python3"
  },
  "language_info": {
   "codemirror_mode": {
    "name": "ipython",
    "version": 3
   },
   "file_extension": ".py",
   "mimetype": "text/x-python",
   "name": "python",
   "nbconvert_exporter": "python",
   "pygments_lexer": "ipython3",
   "version": "3.10.7"
  }
 },
 "nbformat": 4,
 "nbformat_minor": 5
}
